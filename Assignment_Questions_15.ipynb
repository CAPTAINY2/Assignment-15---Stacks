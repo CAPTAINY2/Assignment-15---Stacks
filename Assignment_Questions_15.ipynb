{
  "nbformat": 4,
  "nbformat_minor": 0,
  "metadata": {
    "colab": {
      "provenance": [],
      "authorship_tag": "ABX9TyPN+eVihncYxYPz+ubsyTp4",
      "include_colab_link": true
    },
    "kernelspec": {
      "name": "python3",
      "display_name": "Python 3"
    },
    "language_info": {
      "name": "python"
    }
  },
  "cells": [
    {
      "cell_type": "markdown",
      "metadata": {
        "id": "view-in-github",
        "colab_type": "text"
      },
      "source": [
        "<a href=\"https://colab.research.google.com/github/CAPTAINY2/Assignment-15---Stacks/blob/main/Assignment_Questions_15.ipynb\" target=\"_parent\"><img src=\"https://colab.research.google.com/assets/colab-badge.svg\" alt=\"Open In Colab\"/></a>"
      ]
    },
    {
      "cell_type": "markdown",
      "source": [
        "### QUESTION-1"
      ],
      "metadata": {
        "id": "UtDgOnYBRRr3"
      }
    },
    {
      "cell_type": "code",
      "execution_count": 5,
      "metadata": {
        "colab": {
          "base_uri": "https://localhost:8080/"
        },
        "id": "bUSIGUCDYWES",
        "outputId": "1d970157-2b50-4ae6-f952-8c5bda5b2591"
      },
      "outputs": [
        {
          "output_type": "stream",
          "name": "stdout",
          "text": [
            "Output 1 : [3, 4, 4, -1]\n",
            "Output 2 : [8, -1, 1, 3, -1]\n"
          ]
        }
      ],
      "source": [
        "arr1 = [1, 3, 2, 4]\n",
        "N1 = len(arr1)\n",
        "N2 = 5\n",
        "arr2 = [6, 8, 0, 1, 3]\n",
        "\n",
        "def element(arr, N):\n",
        "    result = [-1] * N\n",
        "    stack = []\n",
        "\n",
        "    for i in range(N-1, -1, -1):\n",
        "        while stack and arr[i] >= stack[-1]:\n",
        "            stack.pop()\n",
        "\n",
        "        if stack:\n",
        "            result[i] = stack[-1]\n",
        "\n",
        "        stack.append(arr[i])\n",
        "\n",
        "    return result\n",
        "\n",
        "print(f\"Output 1 : {element(arr1, N1)}\")\n",
        "\n",
        "print(f\"Output 2 : {element(arr2, N2)}\")"
      ]
    },
    {
      "cell_type": "markdown",
      "source": [
        "### QUESTION-2"
      ],
      "metadata": {
        "id": "qCXcKU1GRXe1"
      }
    },
    {
      "cell_type": "code",
      "source": [
        "a1 = [1, 6, 2]\n",
        "n1= 3\n",
        "n2 = 6\n",
        "a2 = [1, 5, 0, 3, 4, 5]\n",
        "\n",
        "def small(a, n):\n",
        "    result = [-1] * n\n",
        "    stack = []\n",
        "\n",
        "    for i in range(n):\n",
        "        while stack and stack[-1] >= a[i]:\n",
        "            stack.pop()\n",
        "\n",
        "        if stack:\n",
        "            result[i] = stack[-1]\n",
        "\n",
        "        stack.append(a[i])\n",
        "    return result\n",
        "\n",
        "print(f\"Output 1: {small(a1, n1)}\")\n",
        "print(f\"Output 2: {small(a2, n2)}\")"
      ],
      "metadata": {
        "colab": {
          "base_uri": "https://localhost:8080/"
        },
        "id": "dgYmu6ONZOib",
        "outputId": "8fe882b5-e3a6-4ad1-db00-ab252278100f"
      },
      "execution_count": 6,
      "outputs": [
        {
          "output_type": "stream",
          "name": "stdout",
          "text": [
            "Output 1: [-1, 1, 1]\n",
            "Output 2: [-1, 1, -1, 0, 3, 4]\n"
          ]
        }
      ]
    },
    {
      "cell_type": "markdown",
      "source": [
        "### QUESTION-3"
      ],
      "metadata": {
        "id": "q2D4a7GORZbu"
      }
    },
    {
      "cell_type": "code",
      "source": [
        "from queue import Queue\n",
        "\n",
        "class Stack:\n",
        "    def __init__(self):\n",
        "        self.q1 = Queue()\n",
        "        self.q2 = Queue()\n",
        "\n",
        "    def push(self, value):\n",
        "        self.q1.put(value)\n",
        "\n",
        "    def pop(self):\n",
        "        while self.q1.qsize() > 1:\n",
        "            self.q2.put(self.q1.get())\n",
        "\n",
        "        top = self.q1.get()\n",
        "\n",
        "        self.q1, self.q2 = self.q2, self.q1\n",
        "\n",
        "        return top\n",
        "\n",
        "stack1 = Stack()\n",
        "stack1.push(2)\n",
        "stack1.push(3)\n",
        "print(f\"Output 1: {stack1.pop()}\")\n",
        "stack1.push(4)\n",
        "print(f\"Output 1: {stack1.pop()}\")\n",
        "\n",
        "s = Stack()\n",
        "s.push(2)\n",
        "print(s.pop())\n",
        "print(s.pop())\n",
        "s.push(3)\n",
        "print(s.pop())\n"
      ],
      "metadata": {
        "colab": {
          "base_uri": "https://localhost:8080/",
          "height": 432
        },
        "id": "bcoTKSq7cSji",
        "outputId": "91f85885-cd6f-4894-fb90-f84c17b82e7b"
      },
      "execution_count": 7,
      "outputs": [
        {
          "output_type": "stream",
          "name": "stdout",
          "text": [
            "Output 1: 3\n",
            "Output 1: 4\n",
            "2\n"
          ]
        },
        {
          "output_type": "error",
          "ename": "KeyboardInterrupt",
          "evalue": "ignored",
          "traceback": [
            "\u001b[0;31m---------------------------------------------------------------------------\u001b[0m",
            "\u001b[0;31mKeyboardInterrupt\u001b[0m                         Traceback (most recent call last)",
            "\u001b[0;32m<ipython-input-7-6dc9c7cad583>\u001b[0m in \u001b[0;36m<cell line: 31>\u001b[0;34m()\u001b[0m\n\u001b[1;32m     29\u001b[0m \u001b[0ms\u001b[0m\u001b[0;34m.\u001b[0m\u001b[0mpush\u001b[0m\u001b[0;34m(\u001b[0m\u001b[0;36m2\u001b[0m\u001b[0;34m)\u001b[0m\u001b[0;34m\u001b[0m\u001b[0;34m\u001b[0m\u001b[0m\n\u001b[1;32m     30\u001b[0m \u001b[0mprint\u001b[0m\u001b[0;34m(\u001b[0m\u001b[0ms\u001b[0m\u001b[0;34m.\u001b[0m\u001b[0mpop\u001b[0m\u001b[0;34m(\u001b[0m\u001b[0;34m)\u001b[0m\u001b[0;34m)\u001b[0m\u001b[0;34m\u001b[0m\u001b[0;34m\u001b[0m\u001b[0m\n\u001b[0;32m---> 31\u001b[0;31m \u001b[0mprint\u001b[0m\u001b[0;34m(\u001b[0m\u001b[0ms\u001b[0m\u001b[0;34m.\u001b[0m\u001b[0mpop\u001b[0m\u001b[0;34m(\u001b[0m\u001b[0;34m)\u001b[0m\u001b[0;34m)\u001b[0m\u001b[0;34m\u001b[0m\u001b[0;34m\u001b[0m\u001b[0m\n\u001b[0m\u001b[1;32m     32\u001b[0m \u001b[0ms\u001b[0m\u001b[0;34m.\u001b[0m\u001b[0mpush\u001b[0m\u001b[0;34m(\u001b[0m\u001b[0;36m3\u001b[0m\u001b[0;34m)\u001b[0m\u001b[0;34m\u001b[0m\u001b[0;34m\u001b[0m\u001b[0m\n\u001b[1;32m     33\u001b[0m \u001b[0mprint\u001b[0m\u001b[0;34m(\u001b[0m\u001b[0ms\u001b[0m\u001b[0;34m.\u001b[0m\u001b[0mpop\u001b[0m\u001b[0;34m(\u001b[0m\u001b[0;34m)\u001b[0m\u001b[0;34m)\u001b[0m\u001b[0;34m\u001b[0m\u001b[0;34m\u001b[0m\u001b[0m\n",
            "\u001b[0;32m<ipython-input-7-6dc9c7cad583>\u001b[0m in \u001b[0;36mpop\u001b[0;34m(self)\u001b[0m\n\u001b[1;32m     13\u001b[0m             \u001b[0mself\u001b[0m\u001b[0;34m.\u001b[0m\u001b[0mq2\u001b[0m\u001b[0;34m.\u001b[0m\u001b[0mput\u001b[0m\u001b[0;34m(\u001b[0m\u001b[0mself\u001b[0m\u001b[0;34m.\u001b[0m\u001b[0mq1\u001b[0m\u001b[0;34m.\u001b[0m\u001b[0mget\u001b[0m\u001b[0;34m(\u001b[0m\u001b[0;34m)\u001b[0m\u001b[0;34m)\u001b[0m\u001b[0;34m\u001b[0m\u001b[0;34m\u001b[0m\u001b[0m\n\u001b[1;32m     14\u001b[0m \u001b[0;34m\u001b[0m\u001b[0m\n\u001b[0;32m---> 15\u001b[0;31m         \u001b[0mtop\u001b[0m \u001b[0;34m=\u001b[0m \u001b[0mself\u001b[0m\u001b[0;34m.\u001b[0m\u001b[0mq1\u001b[0m\u001b[0;34m.\u001b[0m\u001b[0mget\u001b[0m\u001b[0;34m(\u001b[0m\u001b[0;34m)\u001b[0m\u001b[0;34m\u001b[0m\u001b[0;34m\u001b[0m\u001b[0m\n\u001b[0m\u001b[1;32m     16\u001b[0m \u001b[0;34m\u001b[0m\u001b[0m\n\u001b[1;32m     17\u001b[0m         \u001b[0mself\u001b[0m\u001b[0;34m.\u001b[0m\u001b[0mq1\u001b[0m\u001b[0;34m,\u001b[0m \u001b[0mself\u001b[0m\u001b[0;34m.\u001b[0m\u001b[0mq2\u001b[0m \u001b[0;34m=\u001b[0m \u001b[0mself\u001b[0m\u001b[0;34m.\u001b[0m\u001b[0mq2\u001b[0m\u001b[0;34m,\u001b[0m \u001b[0mself\u001b[0m\u001b[0;34m.\u001b[0m\u001b[0mq1\u001b[0m\u001b[0;34m\u001b[0m\u001b[0;34m\u001b[0m\u001b[0m\n",
            "\u001b[0;32m/usr/lib/python3.10/queue.py\u001b[0m in \u001b[0;36mget\u001b[0;34m(self, block, timeout)\u001b[0m\n\u001b[1;32m    169\u001b[0m             \u001b[0;32melif\u001b[0m \u001b[0mtimeout\u001b[0m \u001b[0;32mis\u001b[0m \u001b[0;32mNone\u001b[0m\u001b[0;34m:\u001b[0m\u001b[0;34m\u001b[0m\u001b[0;34m\u001b[0m\u001b[0m\n\u001b[1;32m    170\u001b[0m                 \u001b[0;32mwhile\u001b[0m \u001b[0;32mnot\u001b[0m \u001b[0mself\u001b[0m\u001b[0;34m.\u001b[0m\u001b[0m_qsize\u001b[0m\u001b[0;34m(\u001b[0m\u001b[0;34m)\u001b[0m\u001b[0;34m:\u001b[0m\u001b[0;34m\u001b[0m\u001b[0;34m\u001b[0m\u001b[0m\n\u001b[0;32m--> 171\u001b[0;31m                     \u001b[0mself\u001b[0m\u001b[0;34m.\u001b[0m\u001b[0mnot_empty\u001b[0m\u001b[0;34m.\u001b[0m\u001b[0mwait\u001b[0m\u001b[0;34m(\u001b[0m\u001b[0;34m)\u001b[0m\u001b[0;34m\u001b[0m\u001b[0;34m\u001b[0m\u001b[0m\n\u001b[0m\u001b[1;32m    172\u001b[0m             \u001b[0;32melif\u001b[0m \u001b[0mtimeout\u001b[0m \u001b[0;34m<\u001b[0m \u001b[0;36m0\u001b[0m\u001b[0;34m:\u001b[0m\u001b[0;34m\u001b[0m\u001b[0;34m\u001b[0m\u001b[0m\n\u001b[1;32m    173\u001b[0m                 \u001b[0;32mraise\u001b[0m \u001b[0mValueError\u001b[0m\u001b[0;34m(\u001b[0m\u001b[0;34m\"'timeout' must be a non-negative number\"\u001b[0m\u001b[0;34m)\u001b[0m\u001b[0;34m\u001b[0m\u001b[0;34m\u001b[0m\u001b[0m\n",
            "\u001b[0;32m/usr/lib/python3.10/threading.py\u001b[0m in \u001b[0;36mwait\u001b[0;34m(self, timeout)\u001b[0m\n\u001b[1;32m    318\u001b[0m         \u001b[0;32mtry\u001b[0m\u001b[0;34m:\u001b[0m    \u001b[0;31m# restore state no matter what (e.g., KeyboardInterrupt)\u001b[0m\u001b[0;34m\u001b[0m\u001b[0;34m\u001b[0m\u001b[0m\n\u001b[1;32m    319\u001b[0m             \u001b[0;32mif\u001b[0m \u001b[0mtimeout\u001b[0m \u001b[0;32mis\u001b[0m \u001b[0;32mNone\u001b[0m\u001b[0;34m:\u001b[0m\u001b[0;34m\u001b[0m\u001b[0;34m\u001b[0m\u001b[0m\n\u001b[0;32m--> 320\u001b[0;31m                 \u001b[0mwaiter\u001b[0m\u001b[0;34m.\u001b[0m\u001b[0macquire\u001b[0m\u001b[0;34m(\u001b[0m\u001b[0;34m)\u001b[0m\u001b[0;34m\u001b[0m\u001b[0;34m\u001b[0m\u001b[0m\n\u001b[0m\u001b[1;32m    321\u001b[0m                 \u001b[0mgotit\u001b[0m \u001b[0;34m=\u001b[0m \u001b[0;32mTrue\u001b[0m\u001b[0;34m\u001b[0m\u001b[0;34m\u001b[0m\u001b[0m\n\u001b[1;32m    322\u001b[0m             \u001b[0;32melse\u001b[0m\u001b[0;34m:\u001b[0m\u001b[0;34m\u001b[0m\u001b[0;34m\u001b[0m\u001b[0m\n",
            "\u001b[0;31mKeyboardInterrupt\u001b[0m: "
          ]
        }
      ]
    },
    {
      "cell_type": "markdown",
      "source": [
        "### QUESTION-4"
      ],
      "metadata": {
        "id": "oKNFpUvYRbFw"
      }
    },
    {
      "cell_type": "code",
      "source": [
        "class Stack:\n",
        "    def __init__(self):\n",
        "        self.items = []\n",
        "\n",
        "    def push(self, item):\n",
        "        self.items.append(item)\n",
        "\n",
        "    def pop(self):\n",
        "        if not self.is_empty():\n",
        "            return self.items.pop()\n",
        "\n",
        "    def is_empty(self):\n",
        "        return len(self.items) == 0\n",
        "\n",
        "    def reverse(self):\n",
        "        if not self.is_empty():\n",
        "            top = self.pop()\n",
        "\n",
        "            self.reverse()\n",
        "\n",
        "            self.insert_at_bottom(top)\n",
        "\n",
        "    def insert_at_bottom(self, item):\n",
        "        if self.is_empty():\n",
        "            self.push(item)\n",
        "        else:\n",
        "            temp = self.pop()\n",
        "            self.insert_at_bottom(item)\n",
        "            self.push(temp)\n",
        "\n",
        "    def display(self):\n",
        "        print(self.items)\n",
        "\n",
        "St1 = Stack()\n",
        "St1.push(3)\n",
        "St1.push(2)\n",
        "St1.push(1)\n",
        "St1.push(7)\n",
        "St1.push(6)\n",
        "\n",
        "print(\"Input 1:\")\n",
        "St1.display()\n",
        "\n",
        "St1.reverse()\n",
        "\n",
        "print(\"Output 1:\")\n",
        "St1.display()\n",
        "\n",
        "St2 = Stack()\n",
        "St2.push(4)\n",
        "St2.push(3)\n",
        "St2.push(9)\n",
        "St2.push(6)\n",
        "\n",
        "print(\"Input 2:\")\n",
        "St2.display()\n",
        "\n",
        "St2.reverse()\n",
        "\n",
        "print(\"Output 2:\")\n",
        "St2.display()\n",
        "\n"
      ],
      "metadata": {
        "id": "XNqim9OueTDU",
        "colab": {
          "base_uri": "https://localhost:8080/"
        },
        "outputId": "396105bc-2cba-42f3-f599-659c57a322e4"
      },
      "execution_count": 8,
      "outputs": [
        {
          "output_type": "stream",
          "name": "stdout",
          "text": [
            "Input 1:\n",
            "[3, 2, 1, 7, 6]\n",
            "Output 1:\n",
            "[6, 7, 1, 2, 3]\n",
            "Input 2:\n",
            "[4, 3, 9, 6]\n",
            "Output 2:\n",
            "[6, 9, 3, 4]\n"
          ]
        }
      ]
    },
    {
      "cell_type": "markdown",
      "source": [
        "### QUESTION-5"
      ],
      "metadata": {
        "id": "hueTe7uPReCf"
      }
    },
    {
      "cell_type": "code",
      "source": [
        "S = \"GeeksforGeeks\"\n",
        "\n",
        "class Stack:\n",
        "    def __init__(self):\n",
        "        self.items = []\n",
        "\n",
        "    def push(self, item):\n",
        "        self.items.append(item)\n",
        "\n",
        "    def pop(self):\n",
        "        if not self.is_empty():\n",
        "            return self.items.pop()\n",
        "\n",
        "    def is_empty(self):\n",
        "        return len(self.items) == 0\n",
        "\n",
        "\n",
        "def reverse_string(string):\n",
        "    stack = Stack()\n",
        "\n",
        "    for char in string:\n",
        "        stack.push(char)\n",
        "\n",
        "    reversed_string = \"\"\n",
        "\n",
        "    while not stack.is_empty():\n",
        "        char = stack.pop()\n",
        "        reversed_string += char\n",
        "\n",
        "    return reversed_string\n",
        "\n",
        "print(f\"Input: S = GeeksforGeeks \")\n",
        "print(f\"Output: {reverse_string(S)}\")\n"
      ],
      "metadata": {
        "colab": {
          "base_uri": "https://localhost:8080/"
        },
        "id": "7Iu5vZsKqjjC",
        "outputId": "4f53b32c-242e-4150-df13-570cac5d27e2"
      },
      "execution_count": 9,
      "outputs": [
        {
          "output_type": "stream",
          "name": "stdout",
          "text": [
            "Input: S = GeeksforGeeks \n",
            "Output: skeeGrofskeeG\n"
          ]
        }
      ]
    },
    {
      "cell_type": "markdown",
      "source": [
        "### QUESTION-6"
      ],
      "metadata": {
        "id": "TzdXz3sGRfmn"
      }
    },
    {
      "cell_type": "code",
      "source": [
        "S1 = \"231*+9-\"\n",
        "S2 = \"123+*8-\"\n",
        "class Stack:\n",
        "    def __init__(self):\n",
        "        self.items = []\n",
        "\n",
        "    def push(self, item):\n",
        "        self.items.append(item)\n",
        "\n",
        "    def pop(self):\n",
        "        if not self.is_empty():\n",
        "            return self.items.pop()\n",
        "\n",
        "    def is_empty(self):\n",
        "        return len(self.items) == 0\n",
        "\n",
        "\n",
        "def evaluate(expression):\n",
        "    stack = Stack()\n",
        "\n",
        "    for i in expression:\n",
        "        if i.isdigit():\n",
        "            stack.push(int(i))\n",
        "        else:\n",
        "            operand2 = stack.pop()\n",
        "            operand1 = stack.pop()\n",
        "\n",
        "            if i == '+':\n",
        "                result = operand1 + operand2\n",
        "            elif i == '-':\n",
        "                result = operand1 - operand2\n",
        "            elif i == '*':\n",
        "                result = operand1 * operand2\n",
        "            elif i == '/':\n",
        "                result = operand1 / operand2\n",
        "\n",
        "            stack.push(result)\n",
        "\n",
        "    return stack.pop()\n",
        "\n",
        "print(f\"Output 1: {evaluate(S1)}\")\n",
        "print(f\"Output 2: {evaluate(S2)}\")\n",
        "\n"
      ],
      "metadata": {
        "colab": {
          "base_uri": "https://localhost:8080/"
        },
        "id": "pwwnSO3EusAU",
        "outputId": "5bdb0498-5c04-42be-d514-413424bc4cfb"
      },
      "execution_count": 10,
      "outputs": [
        {
          "output_type": "stream",
          "name": "stdout",
          "text": [
            "Output 1: -4\n",
            "Output 2: -3\n"
          ]
        }
      ]
    },
    {
      "cell_type": "markdown",
      "source": [
        "### QUESTION-7"
      ],
      "metadata": {
        "id": "1pFX5dEbRhcv"
      }
    },
    {
      "cell_type": "code",
      "source": [
        "class MinStack:\n",
        "    def __init__(self):\n",
        "        self.stack = []\n",
        "        self.min_stack = []\n",
        "\n",
        "    def push(self, val):\n",
        "        self.stack.append(val)\n",
        "\n",
        "        if not self.min_stack or val <= self.min_stack[-1]:\n",
        "            self.min_stack.append(val)\n",
        "\n",
        "    def pop(self):\n",
        "        if self.stack:\n",
        "            val = self.stack.pop()\n",
        "\n",
        "            if val == self.min_stack[-1]:\n",
        "                self.min_stack.pop()\n",
        "\n",
        "    def top(self):\n",
        "        if self.stack:\n",
        "            return self.stack[-1]\n",
        "\n",
        "    def getMin(self):\n",
        "        if self.min_stack:\n",
        "            return self.min_stack[-1]\n",
        "\n",
        "minStack = MinStack()\n",
        "minStack.push(-2)\n",
        "minStack.push(0)\n",
        "minStack.push(-3)\n",
        "print(minStack.getMin())\n",
        "minStack.pop()\n",
        "print(minStack.top())\n",
        "print(minStack.getMin())\n"
      ],
      "metadata": {
        "colab": {
          "base_uri": "https://localhost:8080/"
        },
        "id": "75A-v4RRyDFD",
        "outputId": "031faa7c-6293-4541-eec4-f1fc84663fbe"
      },
      "execution_count": 11,
      "outputs": [
        {
          "output_type": "stream",
          "name": "stdout",
          "text": [
            "-3\n",
            "0\n",
            "-2\n"
          ]
        }
      ]
    },
    {
      "cell_type": "markdown",
      "source": [
        "### QUESTION-8"
      ],
      "metadata": {
        "id": "C0WjbYBIRjS_"
      }
    },
    {
      "cell_type": "code",
      "source": [
        "height1 = [0,1,0,2,1,0,1,3,2,1,2,1]\n",
        "height2 = [4,2,0,3,2,5]\n",
        "\n",
        "def trap(height):\n",
        "    left = 0\n",
        "    right = len(height) - 1\n",
        "    maxLeft = 0\n",
        "    maxRight = 0\n",
        "    water = 0\n",
        "\n",
        "    while left <= right:\n",
        "        if height[left] <= height[right]:\n",
        "            if height[left] > maxLeft:\n",
        "                maxLeft = height[left]\n",
        "            else:\n",
        "                water += maxLeft - height[left]\n",
        "            left += 1\n",
        "        else:\n",
        "            if height[right] > maxRight:\n",
        "                maxRight = height[right]\n",
        "            else:\n",
        "                water += maxRight - height[right]\n",
        "            right -= 1\n",
        "\n",
        "    return water\n",
        "\n",
        "print(f\"Output 1: {trap(height1)}\")\n",
        "\n",
        "print(f\"Output 2: {trap(height2)}\")"
      ],
      "metadata": {
        "id": "zhbMOnoeBicO",
        "colab": {
          "base_uri": "https://localhost:8080/"
        },
        "outputId": "3054b742-f750-4c86-b29b-95a307e7c79f"
      },
      "execution_count": 12,
      "outputs": [
        {
          "output_type": "stream",
          "name": "stdout",
          "text": [
            "Output 1: 6\n",
            "Output 2: 9\n"
          ]
        }
      ]
    },
    {
      "cell_type": "code",
      "source": [],
      "metadata": {
        "id": "90DgSaHAQRk_"
      },
      "execution_count": null,
      "outputs": []
    }
  ]
}